{
  "nbformat": 4,
  "nbformat_minor": 0,
  "metadata": {
    "colab": {
      "provenance": [],
      "authorship_tag": "ABX9TyNN5KHeCto74K4+u24fs2MU",
      "include_colab_link": true
    },
    "kernelspec": {
      "name": "python3",
      "display_name": "Python 3"
    },
    "language_info": {
      "name": "python"
    }
  },
  "cells": [
    {
      "cell_type": "markdown",
      "metadata": {
        "id": "view-in-github",
        "colab_type": "text"
      },
      "source": [
        "<a href=\"https://colab.research.google.com/github/mrArpanM/learn-python/blob/main/05_ProgrammingParadigm.ipynb\" target=\"_parent\"><img src=\"https://colab.research.google.com/assets/colab-badge.svg\" alt=\"Open In Colab\"/></a>"
      ]
    },
    {
      "cell_type": "markdown",
      "source": [
        "# Programming Paradigm or methodology\n",
        "- Functional Programming\n",
        "- Object oriented Programming\n",
        "\n",
        "We'll learn about both these design philosophies in these module.\n",
        "\n"
      ],
      "metadata": {
        "id": "K4AzefmNVTD2"
      }
    },
    {
      "cell_type": "markdown",
      "source": [
        "## **Functions**\n",
        "\n",
        "Functions are a convenient way to divide your code into useful blocks, allowing us to order our code, make it more readable, reuse it and save some time. Also functions are a key way to define interfaces so programmers can share their code.\n",
        "\n",
        "A typical function in python looks like:\n",
        "```python\n",
        "def functionalBlock():\n",
        "  print(\"Hello World\")\n",
        "  ...\n",
        "```"
      ],
      "metadata": {
        "id": "ROvFV6wSW027"
      }
    },
    {
      "cell_type": "code",
      "source": [
        "## Let's create a function that takes two numbers and returns their sum.\n",
        "\n",
        "def sumOfTwoNumbers(a, b):\n",
        "    return a + b\n",
        "    \n",
        "sumOfTwoNumbers(12,3)"
      ],
      "metadata": {
        "colab": {
          "base_uri": "https://localhost:8080/"
        },
        "id": "FC_jj0XBfk9O",
        "outputId": "e51d7606-d362-4076-b95d-daf87607e073"
      },
      "execution_count": 3,
      "outputs": [
        {
          "output_type": "execute_result",
          "data": {
            "text/plain": [
              "15"
            ]
          },
          "metadata": {},
          "execution_count": 3
        }
      ]
    },
    {
      "cell_type": "markdown",
      "source": [
        "### ⚒ Exercise 01: Recreate the calculator you've build in the exercise 04 of previous module with functional block/components for every operations.\n",
        "\n",
        "Create an calculator which will take two numbers and one operations such as plus(+), minus (-), into(×), by(÷), remainder(/*), power(^), percentage (%) as input and returns the calculated value as output."
      ],
      "metadata": {
        "id": "KVOq5w0fhYds"
      }
    },
    {
      "cell_type": "markdown",
      "source": [
        "## **Classes and Objects**\n",
        "\n",
        "Objects are an encapsulation of variables and functions into a single entity. Objects get their variables and functions from classes. Classes are essentially a template to create your objects.\n",
        "\n",
        "A very basic class in python would look something like this:"
      ],
      "metadata": {
        "id": "4LMgIPlaiV7Y"
      }
    },
    {
      "cell_type": "code",
      "source": [
        "class MyClass:\n",
        "    variable = \"blah\"\n",
        "\n",
        "    def func(self):\n",
        "        print(f\"The message inside the class is: {self.variable}.\")\n",
        "\n",
        "# Accessing Object Variables\n",
        "var = MyClass.variable\n",
        "print(var)\n",
        "\n",
        "# Accessing Object Functions\n",
        "cls = MyClass()\n",
        "cls.func()\n",
        "\n",
        "## Or you can simply call it directly.\n",
        "MyClass().function()"
      ],
      "metadata": {
        "colab": {
          "base_uri": "https://localhost:8080/"
        },
        "id": "hiuP2SLam2je",
        "outputId": "af3e6a22-e2ce-4dfd-f24e-5da4310a0801"
      },
      "execution_count": 8,
      "outputs": [
        {
          "output_type": "stream",
          "name": "stdout",
          "text": [
            "blah\n",
            "The message inside the class is: blah.\n",
            "The message inside the class is: blah.\n"
          ]
        }
      ]
    },
    {
      "cell_type": "markdown",
      "source": [
        "### A short note on **Self** argument:\n",
        "\n",
        "> Self is the first argument to be passed in Constructor and Instance Method.\n",
        "\n",
        "`self` represents the instance of the class or object. By using the `self`  we can access the attributes (variables) and methods (functions) of the class in python. It binds the attributes with the given arguments. Self is a convention and not a Python keyword ,So anything can be used in the place of self but it is advised to use self for readibility purposes.\n",
        "\n",
        "> Self is always pointing to Current Object.\n",
        "\n",
        "As we have learned already that a class is essentially a template to create your object, let's understand what that means by applying it."
      ],
      "metadata": {
        "id": "-6DY-r3AnKxT"
      }
    },
    {
      "cell_type": "code",
      "source": [
        "# Creating template.\n",
        "class TemplateClass:\n",
        "    variable = \"foo\"\n",
        "\n",
        "    def func(self):\n",
        "        print(f\"The message inside this object is: {self.variable}.\")\n",
        "\n",
        "# Creating objects\n",
        "objx = TemplateClass()\n",
        "objy = TemplateClass()\n",
        "\n",
        "# Changing the value of the variable in an object\n",
        "objy.variable = \"bar\"\n",
        "\n",
        "# Let's run their respective functions\n",
        "objx.func()\n",
        "objy.func()"
      ],
      "metadata": {
        "colab": {
          "base_uri": "https://localhost:8080/"
        },
        "id": "77QfMlRQp3_E",
        "outputId": "dcf86254-859c-4678-b49f-8f56fbd42adf"
      },
      "execution_count": 10,
      "outputs": [
        {
          "output_type": "stream",
          "name": "stdout",
          "text": [
            "The message inside this object is: foo.\n",
            "The message inside this object is: bar.\n"
          ]
        }
      ]
    },
    {
      "cell_type": "markdown",
      "source": [
        "### **Init function**\n",
        "\n",
        "The `__init__()` function, is a special function that is called when the class is being initiated. It's used for assigning values in a class."
      ],
      "metadata": {
        "id": "-bpx7Jsvrgkn"
      }
    },
    {
      "cell_type": "code",
      "source": [
        "class NumberHolder:\n",
        "\n",
        "   def __init__(self, number):\n",
        "       self.number = number\n",
        "\n",
        "   def returnNumber(self):\n",
        "       return self.number\n",
        "\n",
        "var = NumberHolder(8)\n",
        "print(var.returnNumber()) #Prints '7'"
      ],
      "metadata": {
        "colab": {
          "base_uri": "https://localhost:8080/"
        },
        "id": "HRm64UiMy2tB",
        "outputId": "0712709d-2770-4b89-f862-088845b32320"
      },
      "execution_count": 17,
      "outputs": [
        {
          "output_type": "stream",
          "name": "stdout",
          "text": [
            "8\n"
          ]
        }
      ]
    },
    {
      "cell_type": "markdown",
      "source": [
        "Let's try to understand it by doing an exercise:\n",
        "### ⚒ Exercise 02: Create a class defined for vehicles. Create two new vehicles called tesla and tata. Set tesla to be a 'Red Model S' worth 100,000.00, and tata to be a black 'Black Land Rover' worth 10,000.00."
      ],
      "metadata": {
        "id": "ucJ7Ftsjy1Zb"
      }
    },
    {
      "cell_type": "code",
      "source": [
        "# Creating a class instance/template, So that we don't have to rewrite same code multiple times.\n",
        "class Vehicle:\n",
        "  def __init__(self, name, color, worth):\n",
        "    # arguments received by the init functions are to be passed while constructing the new object from this instance\n",
        "      self.name = name\n",
        "      self.color = color\n",
        "      self.worth = worth\n",
        "      \n",
        "  def description(self):\n",
        "      return f\"{self.name} is a {self.color} car worth {self.worth}.\"\n",
        "\n",
        "# Values passed here are assigned as attributes of the object.\n",
        "tesla = Vehicle(\"Model S\", \"Red\", 100000)\n",
        "# For example, \"Model S\" is assigned to `tesla.name`, \"Red\" is assigned to `tesla.color` and so on...\n",
        "\n",
        "tata = Vehicle(\"Land Rover\", \"Black\", 125000)\n",
        "\n",
        "tesla.description(), tata.description()"
      ],
      "metadata": {
        "colab": {
          "base_uri": "https://localhost:8080/"
        },
        "id": "3jSO2tmTsEei",
        "outputId": "1fb6a2d1-9a8a-4161-82aa-9d2ef64cd87c"
      },
      "execution_count": 21,
      "outputs": [
        {
          "output_type": "stream",
          "name": "stdout",
          "text": [
            "Model S\n"
          ]
        },
        {
          "output_type": "execute_result",
          "data": {
            "text/plain": [
              "('Model S is a Red car worth 100000.',\n",
              " 'Land Rover is a Black car worth 125000.')"
            ]
          },
          "metadata": {},
          "execution_count": 21
        }
      ]
    },
    {
      "cell_type": "code",
      "source": [
        "# As we have self is not a python keyword but a convention, let's rewrite above code without using self.\n",
        "class Vehicle:\n",
        "  def __init__(this, name, color, worth):\n",
        "      this.name = name\n",
        "      this.color = color\n",
        "      this.worth = worth\n",
        "      \n",
        "  def description(of):\n",
        "      return f\"{of.name} is a {of.color} car worth {of.worth}.\"\n",
        "\n",
        "  def show(my):\n",
        "    return print(my.description())\n",
        "\n",
        "# As you can see you can use anything, given it is the first argument it'll work just fine.\n",
        "# But it feels a bit confusing don't you think? that's why self is convention used by most coders.\n",
        "\n",
        "tesla = Vehicle(\"Model S\", \"Red\", 100000)\n",
        "tata = Vehicle(\"Land Rover\", \"Black\", 125000)\n",
        "\n",
        "tesla.show()\n",
        "\n",
        "tata.show()"
      ],
      "metadata": {
        "colab": {
          "base_uri": "https://localhost:8080/"
        },
        "id": "rDBRwhkRI7dU",
        "outputId": "425c0153-b517-4999-9d23-848be06efec1"
      },
      "execution_count": 20,
      "outputs": [
        {
          "output_type": "stream",
          "name": "stdout",
          "text": [
            "Model S is a Red car worth 100000.\n",
            "Land Rover is a Black car worth 125000.\n"
          ]
        }
      ]
    },
    {
      "cell_type": "markdown",
      "source": [
        "## Python Dictionaries (dict)\n",
        "A dictionary is a data type similar to arrays, but works with keys and values instead of indexes. Each value stored in a dictionary can be accessed using a key, which is any type of object (a string, a number, a list, etc.) instead of using its index to address it.\n",
        "\n",
        "If you've worked with JSON(JavaScript Object Notation) before, python dictionary is almost the same. If you don't know json, you will! as we start working with json.\n",
        "\n",
        "For example, a database of phone numbers could be stored using a dictionary like this:"
      ],
      "metadata": {
        "id": "9maYpoN3ta9l"
      }
    },
    {
      "cell_type": "code",
      "source": [
        "# Declaring the dict. An empty dict can declared too.\n",
        "phonebook = {\n",
        "    \"John\" : 938477566,\n",
        "    \"Jack\" : 938377264,\n",
        "    \"Jill\" : 947662781\n",
        "}\n",
        "\n",
        "# Print the entire dict\n",
        "print(phonebook)\n",
        "\n",
        "\n",
        "# You can add new value pairs to dict like this:\n",
        "phonebook[\"James\"] = 947662581\n",
        "\n",
        "\n",
        "# You can delete a new value pair like this:\n",
        "del phonebook[\"John\"]\n",
        "\n",
        "# Or like this\n",
        "# phonebook.pop(\"Jack\")\n",
        "\n",
        "# Or delete entire dict\n",
        "# phonebook.clear()\n",
        "\n",
        "\n",
        "# Print one key value pair\n",
        "print(phonebook[\"Jill\"])\n",
        "\n",
        "# You can loop over the dict value pairs like this:\n",
        "for name, number in phonebook.items():\n",
        "    print(f\"Phone number of {name} is {number}\")"
      ],
      "metadata": {
        "colab": {
          "base_uri": "https://localhost:8080/"
        },
        "id": "DC-bpR5esyB2",
        "outputId": "257bc110-ec42-49da-f556-c2bab500281a"
      },
      "execution_count": 11,
      "outputs": [
        {
          "output_type": "stream",
          "name": "stdout",
          "text": [
            "{'John': 938477566, 'Jack': 938377264, 'Jill': 947662781}\n",
            "947662781\n",
            "Phone number of Jack is 938377264\n",
            "Phone number of Jill is 947662781\n",
            "Phone number of James is 947662581\n"
          ]
        }
      ]
    },
    {
      "cell_type": "markdown",
      "source": [
        "### ⚒ Exercise 03: Do something fun or skip to next module. "
      ],
      "metadata": {
        "id": "gnRR8p6sx7qi"
      }
    }
  ]
}