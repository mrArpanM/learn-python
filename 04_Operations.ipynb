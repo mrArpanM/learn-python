{
  "nbformat": 4,
  "nbformat_minor": 0,
  "metadata": {
    "colab": {
      "provenance": [],
      "authorship_tag": "ABX9TyMeEEkwyfGrIq9QnkCVGjUZ",
      "include_colab_link": true
    },
    "kernelspec": {
      "name": "python3",
      "display_name": "Python 3"
    },
    "language_info": {
      "name": "python"
    }
  },
  "cells": [
    {
      "cell_type": "markdown",
      "metadata": {
        "id": "view-in-github",
        "colab_type": "text"
      },
      "source": [
        "<a href=\"https://colab.research.google.com/github/mrArpanM/learn-python/blob/main/04_Operations.ipynb\" target=\"_parent\"><img src=\"https://colab.research.google.com/assets/colab-badge.svg\" alt=\"Open In Colab\"/></a>"
      ]
    },
    {
      "cell_type": "markdown",
      "source": [
        "# Basic Operations in Python."
      ],
      "metadata": {
        "id": "XYPp-wkuOWWz"
      }
    },
    {
      "cell_type": "markdown",
      "source": [
        "## **Arithmatic Operators**\n",
        "\n",
        "⚒ Play with numbers by changing numbers and running the cell."
      ],
      "metadata": {
        "id": "A360IrsWOnxZ"
      }
    },
    {
      "cell_type": "code",
      "execution_count": 5,
      "metadata": {
        "colab": {
          "base_uri": "https://localhost:8080/"
        },
        "id": "fJr5Vu07ONem",
        "outputId": "07fea028-dc12-409d-bb07-0320dc0e711f"
      },
      "outputs": [
        {
          "output_type": "stream",
          "name": "stdout",
          "text": [
            "8\n"
          ]
        }
      ],
      "source": [
        "# Addition\n",
        "eight = 3+5 # 3+5 = 8\n",
        "\n",
        "print(eight)"
      ]
    },
    {
      "cell_type": "code",
      "source": [
        "# Subtraction\n",
        "\n",
        "two = 5-3 # 5-3 = 2\n",
        "\n",
        "print(two)"
      ],
      "metadata": {
        "colab": {
          "base_uri": "https://localhost:8080/"
        },
        "id": "yYypwWnFPE_M",
        "outputId": "0770a5d9-3505-44c5-ccad-d75be627e213"
      },
      "execution_count": 3,
      "outputs": [
        {
          "output_type": "stream",
          "name": "stdout",
          "text": [
            "2\n"
          ]
        }
      ]
    },
    {
      "cell_type": "code",
      "source": [
        "# Multiplication\n",
        "\n",
        "ten = 5*2 # 5×2=10\n",
        "\n",
        "print(ten)"
      ],
      "metadata": {
        "colab": {
          "base_uri": "https://localhost:8080/"
        },
        "id": "GerU8dzwPNhC",
        "outputId": "0afe16ad-5a01-4ade-ae94-cf51ac636e98"
      },
      "execution_count": 4,
      "outputs": [
        {
          "output_type": "stream",
          "name": "stdout",
          "text": [
            "10\n"
          ]
        }
      ]
    },
    {
      "cell_type": "code",
      "source": [
        "# Division (Quotient)\n",
        "\n",
        "four = 12/3 # 12÷3=4\n",
        "\n",
        "print(four)"
      ],
      "metadata": {
        "colab": {
          "base_uri": "https://localhost:8080/"
        },
        "id": "X6D9IZstPvHs",
        "outputId": "e986bec7-a99d-4920-b9c0-a8937a2d8563"
      },
      "execution_count": 6,
      "outputs": [
        {
          "output_type": "stream",
          "name": "stdout",
          "text": [
            "4.0\n"
          ]
        }
      ]
    },
    {
      "cell_type": "code",
      "source": [
        "# Remainder in Division\n",
        "\n",
        "five = 17%6 # 17÷6= (12+5)÷6 =  2/5 [quotient/remainder]\n",
        "\n",
        "print(five)"
      ],
      "metadata": {
        "colab": {
          "base_uri": "https://localhost:8080/"
        },
        "id": "4NBB_LiwQElv",
        "outputId": "e212a9df-72aa-46b6-81e4-6af030239ece"
      },
      "execution_count": 7,
      "outputs": [
        {
          "output_type": "stream",
          "name": "stdout",
          "text": [
            "5\n"
          ]
        }
      ]
    },
    {
      "cell_type": "code",
      "source": [
        "# Exponents\n",
        "\n",
        "nine = 3**2 # 3^2 = 3×3=9\n",
        "print(nine)"
      ],
      "metadata": {
        "colab": {
          "base_uri": "https://localhost:8080/"
        },
        "id": "sdl_8M88RN2r",
        "outputId": "943baa65-833e-4cd1-e924-5cf753c2169f"
      },
      "execution_count": 8,
      "outputs": [
        {
          "output_type": "stream",
          "name": "stdout",
          "text": [
            "9\n"
          ]
        }
      ]
    },
    {
      "cell_type": "markdown",
      "source": [
        "\n",
        "\n",
        "---\n",
        "\n",
        "## Using Operators with Strings"
      ],
      "metadata": {
        "id": "IyGDfW68SneK"
      }
    },
    {
      "cell_type": "code",
      "source": [
        "#Concatenation (adding up)\n",
        "\n",
        "helloworld = \"hello\" + \" \" + \"world\" # \"hello world\"\n",
        "\n",
        "print(helloworld)"
      ],
      "metadata": {
        "colab": {
          "base_uri": "https://localhost:8080/"
        },
        "id": "1EQBGq8bS3Im",
        "outputId": "c6c3671a-05b7-4123-8a10-2c9f44e8730b"
      },
      "execution_count": 9,
      "outputs": [
        {
          "output_type": "stream",
          "name": "stdout",
          "text": [
            "hello world\n"
          ]
        }
      ]
    },
    {
      "cell_type": "code",
      "source": [
        "# Repeatation\n",
        "\n",
        "lotsofhellos = \"hello\\n\" * 10 # \\n equates to new line.\n",
        "\n",
        "print(lotsofhellos)"
      ],
      "metadata": {
        "colab": {
          "base_uri": "https://localhost:8080/"
        },
        "id": "RjCeU_oRTgFj",
        "outputId": "755d590c-9040-4a76-d68d-f47605d3924f"
      },
      "execution_count": 11,
      "outputs": [
        {
          "output_type": "stream",
          "name": "stdout",
          "text": [
            "hello\n",
            "hello\n",
            "hello\n",
            "hello\n",
            "hello\n",
            "hello\n",
            "hello\n",
            "hello\n",
            "hello\n",
            "hello\n",
            "\n"
          ]
        }
      ]
    },
    {
      "cell_type": "markdown",
      "source": [
        "\n",
        "\n",
        "---\n",
        "\n",
        "## Using Operators with Lists"
      ],
      "metadata": {
        "id": "-Di8L9U4US21"
      }
    },
    {
      "cell_type": "code",
      "source": [
        "# Joining list items together.\n",
        "\n",
        "even_numbers = [2,4,6,8]\n",
        "odd_numbers = [1,3,5,7]\n",
        "all_numbers = odd_numbers + even_numbers\n",
        "\n",
        "print(all_numbers)"
      ],
      "metadata": {
        "colab": {
          "base_uri": "https://localhost:8080/"
        },
        "id": "fI8zFIgpU7Co",
        "outputId": "91dbee5b-9e59-4bf5-d9d7-0b10547a45ef"
      },
      "execution_count": 12,
      "outputs": [
        {
          "output_type": "stream",
          "name": "stdout",
          "text": [
            "[1, 3, 5, 7, 2, 4, 6, 8]\n"
          ]
        }
      ]
    },
    {
      "cell_type": "code",
      "source": [
        "# Repeatation\n",
        "\n",
        "print([1,2,3] * 3)"
      ],
      "metadata": {
        "colab": {
          "base_uri": "https://localhost:8080/"
        },
        "id": "KrsthAlTVd1i",
        "outputId": "1feb9edd-3838-4fe7-9f31-16d0169bcd53"
      },
      "execution_count": 13,
      "outputs": [
        {
          "output_type": "stream",
          "name": "stdout",
          "text": [
            "[1, 2, 3, 1, 2, 3, 1, 2, 3]\n"
          ]
        }
      ]
    },
    {
      "cell_type": "markdown",
      "source": [
        "## **Exercises**\n",
        "⚒ Complete the exercises before going to next section."
      ],
      "metadata": {
        "id": "zllVEed0VzDW"
      }
    },
    {
      "cell_type": "markdown",
      "source": [
        "### Exercise 01: Create an calculator which will take a number as input and returns it's square as output."
      ],
      "metadata": {
        "id": "xQhDY-1HWGhT"
      }
    },
    {
      "cell_type": "code",
      "source": [
        "# Start Coding here..."
      ],
      "metadata": {
        "id": "tbO_7I94WkEx"
      },
      "execution_count": null,
      "outputs": []
    },
    {
      "cell_type": "markdown",
      "source": [
        "### Exercise 02: Create a todo app that'll take a task as input and print all the task that were added before.\n",
        "\n",
        "Hint:\n",
        "* Create a list with few tasks.\n",
        "* Ask for new tasks using **input** function.\n",
        "* Use **append** function to add new task to the list of todo."
      ],
      "metadata": {
        "id": "NMIPAMijWrnE"
      }
    },
    {
      "cell_type": "code",
      "source": [
        "# Start Coding here..."
      ],
      "metadata": {
        "id": "ZqFpgGZsXYnj"
      },
      "execution_count": null,
      "outputs": []
    }
  ]
}