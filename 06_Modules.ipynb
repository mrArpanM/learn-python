{
  "nbformat": 4,
  "nbformat_minor": 0,
  "metadata": {
    "colab": {
      "provenance": [],
      "mount_file_id": "10K0XaYITY1GGv8iz5cuevcsRTeh9Nw8T",
      "authorship_tag": "ABX9TyPTS7x99DCJBQnO8Slv8lfg",
      "include_colab_link": true
    },
    "kernelspec": {
      "name": "python3",
      "display_name": "Python 3"
    },
    "language_info": {
      "name": "python"
    }
  },
  "cells": [
    {
      "cell_type": "markdown",
      "metadata": {
        "id": "view-in-github",
        "colab_type": "text"
      },
      "source": [
        "<a href=\"https://colab.research.google.com/github/mrArpanM/learn-python/blob/main/06_Modules.ipynb\" target=\"_parent\"><img src=\"https://colab.research.google.com/assets/colab-badge.svg\" alt=\"Open In Colab\"/></a>"
      ]
    },
    {
      "cell_type": "markdown",
      "source": [
        "# Python Modules and Packages\n",
        "\n",
        "In programming, a module is a piece of software that has a specific functionality. For example, when building a ping pong game, one module may be responsible for the game logic, and another module draws the game on the screen.\n",
        "\n",
        "Think of Modules/Packages/Libraries as programs written by other programmer to be used by you. Simple!\n",
        "\n",
        "You have to `import` a module before using it."
      ],
      "metadata": {
        "id": "izeJEGaFy6c6"
      }
    },
    {
      "cell_type": "code",
      "execution_count": 2,
      "metadata": {
        "id": "3GIIcQQUy3Tl"
      },
      "outputs": [],
      "source": [
        "# Using built-in modules\n",
        "import json\n",
        "\n",
        "# Data to be written\n",
        "dictionary = {\n",
        "    \"name\": \"johndoe\",\n",
        "    \"rollno\": 8,\n",
        "    \"cgpa\": 9.6,\n",
        "    \"phonenumber\": 9876543210\n",
        "}\n",
        " \n",
        "# Serializing json\n",
        "json_object = json.dumps(dictionary, indent=4)\n",
        " \n",
        "# Writing to sample.json to your current directory \n",
        "# Click on folder icon on the left side to see the current directory.\n",
        "with open(\"sample.json\", \"w\") as outfile:\n",
        "    outfile.write(json_object)"
      ]
    },
    {
      "cell_type": "code",
      "source": [
        "# Opening JSON file\n",
        "with open('sample.json', 'r') as openfile:\n",
        " \n",
        "    # Reading from json file\n",
        "    json_object = json.load(openfile)\n",
        " \n",
        "print(json_object)\n",
        "\n",
        "# While working in python there is no json, so it uses the dict datatype\n",
        "print(type(json_object))"
      ],
      "metadata": {
        "colab": {
          "base_uri": "https://localhost:8080/"
        },
        "id": "X8Bh1z2s_ZaJ",
        "outputId": "241b3be8-9807-40bb-a302-782945e2e5da"
      },
      "execution_count": 3,
      "outputs": [
        {
          "output_type": "stream",
          "name": "stdout",
          "text": [
            "{'name': 'johndoe', 'rollno': 8, 'cgpa': 9.6, 'phonenumber': 9876543210}\n",
            "<class 'dict'>\n"
          ]
        }
      ]
    },
    {
      "cell_type": "markdown",
      "source": [
        "## **External Libraries**\n",
        "\n",
        "---\n",
        "\n"
      ],
      "metadata": {
        "id": "TeCDwAao_4cd"
      }
    },
    {
      "cell_type": "markdown",
      "source": [
        "## [Numpy](https://numpy.org/doc/stable/)\n",
        "Numpy arrays are great alternatives to Python Lists. Some of the key advantages of Numpy arrays are that they are fast, easy to work with, and give users the opportunity to perform calculations across entire arrays."
      ],
      "metadata": {
        "id": "t4ElajA1D42t"
      }
    },
    {
      "cell_type": "code",
      "source": [
        "# Create 2 new python lists, height and weight\n",
        "height = [1.87,  1.87, 1.82, 1.91, 1.90, 1.85]\n",
        "weight = [81.65, 97.52, 95.25, 92.98, 86.18, 88.45]\n",
        "\n",
        "# Import the numpy package as np\n",
        "import numpy as np\n",
        "\n",
        "# Create numpy arrays from height and weight\n",
        "np_height = np.array(height)\n",
        "print(f\"np_height Array has the value of {np_height} & datatype of {type(np_height)}\")\n",
        "np_weight = np.array(weight)\n",
        "print(f\"np_weight Array has the value of {np_weight} & datatype of {type(np_weight)}\")\n",
        "\n",
        "# We can calculate Elementwise, for example:\n",
        "# Let's calculate bmi based on height and weights.\n",
        "bmi = np_weight / np_height ** 2\n",
        "\n",
        "# Print the result\n",
        "print(f\"BMI:{bmi}\")\n",
        "\n",
        "# Print only those observations above 24\n",
        "# print(bmi[bmi > 24])"
      ],
      "metadata": {
        "colab": {
          "base_uri": "https://localhost:8080/"
        },
        "id": "AH9P3unCAPGx",
        "outputId": "51d6892e-35f7-4c6c-9502-3397bbc909ef"
      },
      "execution_count": 12,
      "outputs": [
        {
          "output_type": "stream",
          "name": "stdout",
          "text": [
            "np_height Array has the value of [1.87 1.87 1.82 1.91 1.9  1.85] & datatype of <class 'numpy.ndarray'>\n",
            "np_weight Array has the value of [81.65 97.52 95.25 92.98 86.18 88.45] & datatype of <class 'numpy.ndarray'>\n",
            "BMI:[23.34925219 27.88755755 28.75558507 25.48723993 23.87257618 25.84368152]\n",
            "[27.88755755 28.75558507 25.48723993 25.84368152]\n"
          ]
        }
      ]
    },
    {
      "cell_type": "markdown",
      "source": [
        "## [Pandas](https://pandas.pydata.org/docs/)\n",
        "Pandas is a high-level data manipulation tool developed by Wes McKinney. It is built on the Numpy package and its key data structure is called the DataFrame. DataFrames allow you to store and manipulate tabular data in rows of observations and columns of variables."
      ],
      "metadata": {
        "id": "fpNLjCNRET8h"
      }
    },
    {
      "cell_type": "code",
      "source": [
        "# Creating a dict to store data on brics\n",
        "bricsdata = {\"country\": [\"Brazil\", \"Russia\", \"India\", \"China\", \"South Africa\"],\n",
        "       \"capital\": [\"Brasilia\", \"Moscow\", \"New Dehli\", \"Beijing\", \"Pretoria\"],\n",
        "       \"area\": [8.516, 17.10, 3.286, 9.597, 1.221],\n",
        "       \"population\": [200.4, 143.5, 1252, 1357, 52.98] }\n",
        "\n",
        "# Import the pandas package as pd\n",
        "import pandas as pd\n",
        "\n",
        "# Create pandas dataframe from brics data\n",
        "brics = pd.DataFrame(bricsdata)\n",
        "# print(brics)\n",
        "\n",
        "# Set the index for brics\n",
        "brics.index = [\"BR\", \"RU\", \"IN\", \"CH\", \"SA\"]\n",
        "\n",
        "# Print out brics with new index values\n",
        "print(brics)"
      ],
      "metadata": {
        "colab": {
          "base_uri": "https://localhost:8080/"
        },
        "id": "aHPrSrh4Ewtu",
        "outputId": "e74bed09-cbcc-4be9-a371-4fabe3893ccb"
      },
      "execution_count": 16,
      "outputs": [
        {
          "output_type": "stream",
          "name": "stdout",
          "text": [
            "         country    capital    area  population\n",
            "BR        Brazil   Brasilia   8.516      200.40\n",
            "RU        Russia     Moscow  17.100      143.50\n",
            "IN         India  New Dehli   3.286     1252.00\n",
            "CH         China    Beijing   9.597     1357.00\n",
            "SA  South Africa   Pretoria   1.221       52.98\n"
          ]
        }
      ]
    }
  ]
}