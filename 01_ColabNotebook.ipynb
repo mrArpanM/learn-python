{
  "nbformat": 4,
  "nbformat_minor": 0,
  "metadata": {
    "colab": {
      "provenance": [],
      "authorship_tag": "ABX9TyNMwn1xApXp+1ccUWRED7+E",
      "include_colab_link": true
    },
    "kernelspec": {
      "name": "python3",
      "display_name": "Python 3"
    },
    "language_info": {
      "name": "python"
    }
  },
  "cells": [
    {
      "cell_type": "markdown",
      "metadata": {
        "id": "view-in-github",
        "colab_type": "text"
      },
      "source": [
        "<a href=\"https://colab.research.google.com/github/mrArpanM/learn-python/blob/main/01_ColabNotebook.ipynb\" target=\"_parent\"><img src=\"https://colab.research.google.com/assets/colab-badge.svg\" alt=\"Open In Colab\"/></a>"
      ]
    },
    {
      "cell_type": "markdown",
      "source": [
        "# Colaboratory Jupyter Notebook\n",
        "It is an interactive notebooks that is a great teaching environment, powerful, shareable, and provides the ability to perform data visualization in the same environment.\n",
        "\n",
        "### **Jupyter Notebook**\n",
        "The Jupyter Notebook is an open-source web application that allows you to create and share documents that contain live code, equations, visualizations, and narrative text.\n",
        "\n",
        "### **Colaboratory Platform (Google Colab)**\n",
        "Colaboratory is a free Jupyter notebook environment that requires no setup and runs entirely in the cloud.\n",
        "\n",
        "It consists of a sequence of cells.The cells contains codes or text depending on the type of cell. There are two type of cell:\n",
        "\n",
        "\n",
        "1.   **Code Cells**:\n",
        "    * It takes codes(we will use python) as input.\n",
        "    * Codes can be executed by clicking on ▶ button on the left side.\n",
        "    * It will return the output just like a command line interface.\n",
        "2.   **Text Cells**:\n",
        "  * It takes markdown as input.\n",
        "  * It also has the support for latex.\n",
        "  * It is read|edit only cell, meaning it cannot be executed.\n",
        "\n",
        "\n",
        "\n",
        "**It has in-build support for:**\n",
        "* Markdown which is a markup language that is a superset of HTML.\n",
        "* Latex to render mathematical and scientific writing.\n",
        "* Python programming language to write code.\n",
        "\n",
        "### **⚠ Use `Ctrl`+ `Space` to get Autocompletion**"
      ],
      "metadata": {
        "id": "rVvpWMI_eZqD"
      }
    },
    {
      "cell_type": "markdown",
      "source": [
        "## Python\n",
        "\n",
        "\n",
        "\n",
        "```python\n",
        "print(\"Hello, World!\")\n",
        "```\n",
        "\n"
      ],
      "metadata": {
        "id": "3pEXdZxogSxb"
      }
    },
    {
      "cell_type": "code",
      "source": [
        "print(\"Hello, World!\")"
      ],
      "metadata": {
        "id": "QUcrEzD2229h"
      },
      "execution_count": null,
      "outputs": []
    },
    {
      "cell_type": "markdown",
      "source": [
        "## Markdown"
      ],
      "metadata": {
        "id": "3t6sqXMcgHGb"
      }
    },
    {
      "cell_type": "markdown",
      "source": [
        "### **Headings**\n",
        "\n",
        "```\n",
        "# Heading 1\n",
        "## Heading 2\n",
        "### Heading 3\n",
        "```\n",
        "# Heading 1\n",
        "## Heading 2\n",
        "### Heading 3\n",
        "\n",
        "---"
      ],
      "metadata": {
        "id": "2VstZ3XdA9Uq"
      }
    },
    {
      "cell_type": "markdown",
      "source": [
        "### **Paragraph**\n",
        "\n",
        "```\n",
        "This is a paragraph.\n",
        "\n",
        "Lorem ipsum dolor sit amet, consectetur adipiscing elit, sed do eiusmod tempor incididunt ut labore et dolore magna aliqua. Ut enim ad minim veniam, quis nostrud exercitation ullamco laboris nisi ut aliquip ex ea commodo consequat. Duis aute irure dolor in reprehenderit in voluptate velit esse cillum dolore eu fugiat nulla pariatur. Excepteur sint occaecat cupidatat non proident, sunt in culpa qui officia deserunt mollit anim id est laborum.\n",
        "```\n",
        "This is a paragraph.\n",
        "\n",
        "Lorem ipsum dolor sit amet, consectetur adipiscing elit, sed do eiusmod tempor incididunt ut labore et dolore magna aliqua. Ut enim ad minim veniam, quis nostrud exercitation ullamco laboris nisi ut aliquip ex ea commodo consequat. Duis aute irure dolor in reprehenderit in voluptate velit esse cillum dolore eu fugiat nulla pariatur. Excepteur sint occaecat cupidatat non proident, sunt in culpa qui officia deserunt mollit anim id est laborum.\n",
        "\n",
        "---"
      ],
      "metadata": {
        "id": "P63z2Qb6A4Bg"
      }
    },
    {
      "cell_type": "markdown",
      "source": [
        "### **Links**\n",
        "\n",
        "```\n",
        "[Link Text](https://mrarpanm.github.io/learn-python/ \"Github Page Link\")\n",
        "```\n",
        "[Link Text](https://mrarpanm.github.io/learn-python/ \"Github Page Link\")\n",
        "\n",
        "---"
      ],
      "metadata": {
        "id": "8Q9e8FDyBOXe"
      }
    },
    {
      "cell_type": "markdown",
      "source": [
        "### **Text Emphasis**\n",
        "\n",
        "```\n",
        "*Italics* | _Italics_\n",
        "**Bold** | __Bold__\n",
        "~~Strikethrough~~\n",
        "```\n",
        "_Italics_\n",
        "\n",
        "**Bold**\n",
        "\n",
        "~~Strikethrough~~\n",
        "\n",
        "---"
      ],
      "metadata": {
        "id": "ydMooc1yA1gb"
      }
    },
    {
      "cell_type": "markdown",
      "source": [
        "### **Lists**\n",
        "\n",
        "```\n",
        "1. Item 1\n",
        "2. Item 2 ( we can type 1. and the markdown will automatically numerate them) \n",
        "* First Item\n",
        "  * Nested item 1\n",
        "  * Nested item 2\n",
        "    1. Keep going\n",
        "    1. Yes\n",
        "  \n",
        "* Second Item\n",
        "- First Item\n",
        "- Second Item\n",
        "```\n",
        "1. Item 1\n",
        "2. Item 2 ( we can type 1. and the markdown will automatically numerate them) \n",
        "* First Item\n",
        "  * Nested item 1\n",
        "  * Nested item 2\n",
        "    1. Keep going\n",
        "    1. Yes\n",
        "  \n",
        "* Second Item\n",
        "- First Item\n",
        "- Second Item\n",
        "\n",
        "---"
      ],
      "metadata": {
        "id": "QQUDovDPAxib"
      }
    },
    {
      "cell_type": "markdown",
      "source": [
        "### **Code and Syntax Highlighting**\n",
        "\n",
        "```\n",
        "```python\n",
        "def staySafe(Coronavirus)\n",
        "  if not home:\n",
        "    return home\n",
        "\\``` [remove \\ when writing]\n",
        "```\n",
        "\n",
        "```python\n",
        "def staySafe(Coronavirus)\n",
        "  if not home:\n",
        "    return home\n",
        "```\n",
        "---"
      ],
      "metadata": {
        "id": "ZXmrV-WPADhd"
      }
    },
    {
      "cell_type": "markdown",
      "source": [
        "### **Blockquote**\n",
        "\n",
        "```\n",
        "> This is a blockquote.\n",
        "```\n",
        "\n",
        "> This is a blockquote.\n",
        "---\n"
      ],
      "metadata": {
        "id": "6elKehXg_81g"
      }
    },
    {
      "cell_type": "markdown",
      "source": [
        "## Latex"
      ],
      "metadata": {
        "id": "y4-AGN3zgKd6"
      }
    },
    {
      "cell_type": "markdown",
      "source": [
        "### Writing Formulas\n",
        "```\n",
        "Euler's identity: $ e^{i \\pi} + 1 = 0 $\n",
        "```\n",
        "\n",
        "Euler's identity: $ e^{i \\pi} + 1 = 0 $\n",
        "\n",
        "```\n",
        "Euler's identity: $$ e^{i \\pi} + 1 = 0 $$\n",
        "```\n",
        "\n",
        "Euler's identity: $$ e^{i \\pi} + 1 = 0 $$"
      ],
      "metadata": {
        "id": "U-vE0P9GRoMx"
      }
    },
    {
      "cell_type": "markdown",
      "source": [
        "### **Wrting Fractions**\n",
        "```\n",
        "$$ \\frac{124}{32} $$\n",
        "```\n",
        "$$ \\frac{124}{32} $$\n"
      ],
      "metadata": {
        "id": "ItyBCGQiSjMW"
      }
    },
    {
      "cell_type": "markdown",
      "source": [
        "### **Wrting Exponents/Power/Superscript**\n",
        "```\n",
        "$$ x^2 $$\n",
        "```\n",
        "$$ x^2 $$"
      ],
      "metadata": {
        "id": "gBVuXsc_SAZQ"
      }
    },
    {
      "cell_type": "markdown",
      "source": [
        "### **Writing Subscript/indices**\n",
        "```\n",
        "$$ A_i $$\n",
        "```\n",
        "$$ A_i $$"
      ],
      "metadata": {
        "id": "cGV1mDy_Ua0H"
      }
    },
    {
      "cell_type": "markdown",
      "source": [
        "\n",
        "### **Writing Roots **\n",
        "```\n",
        "$$ \\sqrt[3]{8} $$\n",
        "```\n",
        "$$ \\sqrt[3]{8} $$"
      ],
      "metadata": {
        "id": "uRiKa5z9UwGz"
      }
    },
    {
      "cell_type": "markdown",
      "source": [
        "### **Space and New Line**\n",
        "\n",
        "Use `\\` for space.\n",
        "\n",
        "Use `\\\\` for new line."
      ],
      "metadata": {
        "id": "5Z-esVw-VZI4"
      }
    },
    {
      "cell_type": "markdown",
      "source": [
        "### **Writing Matrix**\n",
        "```\n",
        "Plain:\n",
        "\n",
        "\\begin{matrix}\n",
        "1 & 2 & 3\\\\\n",
        "a & b & c\n",
        "\\end{matrix}\n",
        "\n",
        "Round brackets:\n",
        "\\begin{pmatrix}\n",
        "1 & 2 & 3\\\\\n",
        "a & b & c\n",
        "\\end{pmatrix}\n",
        "\n",
        "Curly brackets:\n",
        "\\begin{Bmatrix}\n",
        "1 & 2 & 3\\\\\n",
        "a & b & c\n",
        "\\end{Bmatrix}\t\n",
        "\n",
        "Pipes:\n",
        "\\begin{vmatrix}\n",
        "1 & 2 & 3\\\\\n",
        "a & b & c\n",
        "\\end{vmatrix}\n",
        "\n",
        "Double pipes\n",
        "\\begin{Vmatrix}\n",
        "1 & 2 & 3\\\\\n",
        "a & b & c\n",
        "\\end{Vmatrix}\n",
        "```\n",
        "Plain:\n",
        "\n",
        "\\begin{matrix}\n",
        "1 & 2 & 3\\\\\n",
        "a & b & c\n",
        "\\end{matrix}\n",
        "\n",
        "Round brackets:\n",
        "\\begin{pmatrix}\n",
        "1 & 2 & 3\\\\\n",
        "a & b & c\n",
        "\\end{pmatrix}\n",
        "\n",
        "Curly brackets:\n",
        "\\begin{Bmatrix}\n",
        "1 & 2 & 3\\\\\n",
        "a & b & c\n",
        "\\end{Bmatrix}\t\n",
        "\n",
        "Pipes:\n",
        "\\begin{vmatrix}\n",
        "1 & 2 & 3\\\\\n",
        "a & b & c\n",
        "\\end{vmatrix}\n",
        "\n",
        "Double pipes\n",
        "\\begin{Vmatrix}\n",
        "1 & 2 & 3\\\\\n",
        "a & b & c\n",
        "\\end{Vmatrix}"
      ],
      "metadata": {
        "id": "dFpjQ2rwXKE6"
      }
    },
    {
      "cell_type": "markdown",
      "source": [
        "### **Other Symbols**\n",
        "```\n",
        "Left angle : $\\langle$\n",
        "\n",
        "Right angle : $\\rangle$\n",
        "\n",
        "Angle between two vectors u and v\t: $\\langle \\vec{u},\\vec{v}\\rangle$\t\n",
        "\n",
        "$$ \\vec{AB} \\, \\cdot \\, \\vec{CD} =0  \\Rightarrow  \\vec{AB} \\, \\perp\\, \\vec{CD}$$\n",
        "\n",
        "Sets and logic\n",
        "$$\\mathbb{N} \\subset \\mathbb{Z} \\subset \\mathbb{D} \\subset \\mathbb{Q} \\subset \\mathbb{R} \\subset \\mathbb{C}$$\n",
        "\n",
        "\n",
        "```\n",
        "Left angle : $\\langle$\n",
        "\n",
        "Right angle : $\\rangle$\n",
        "\n",
        "Angle between two vectors u and v\t: $\\langle \\vec{u},\\vec{v}\\rangle$\t\n",
        "\n",
        "$$ \\vec{AB} \\, \\cdot \\, \\vec{CD} =0  \\Rightarrow  \\vec{AB} \\, \\perp\\, \\vec{CD}$$\n",
        "\n",
        "Sets and logic\n",
        "$$\\mathbb{N} \\subset \\mathbb{Z} \\subset \\mathbb{D} \\subset \\mathbb{Q} \\subset \\mathbb{R} \\subset \\mathbb{C}$$\n",
        "\n"
      ],
      "metadata": {
        "id": "hrGPcFEjWWQo"
      }
    },
    {
      "cell_type": "markdown",
      "source": [
        "## Miscellaneous"
      ],
      "metadata": {
        "id": "ZrKpwOFngXBO"
      }
    },
    {
      "cell_type": "markdown",
      "source": [
        "### **Images**\n",
        "\n",
        "```\n",
        "![Alt Text](https://image.link.png \"Optional Title\")\n",
        "```\n",
        "![Alt Text](https://miro.medium.com/max/80/0*PRNVc7bjff0Jj1pm.png \"Optional Title\")\n",
        "\n",
        "---\n",
        "\n",
        "\n",
        "\n",
        "> Use `Insert Image` from UI to add local image."
      ],
      "metadata": {
        "id": "mfvxLfiLBD-i"
      }
    },
    {
      "cell_type": "markdown",
      "source": [
        "### **Emoji**\n",
        "\n",
        "```\n",
        ":hug-face\n",
        "```\n",
        "\n",
        "🤗\n",
        "\n",
        "---"
      ],
      "metadata": {
        "id": "zlgk03I1Fqld"
      }
    },
    {
      "cell_type": "markdown",
      "source": [
        "### **Tables**\n",
        "\n",
        "```markdown\n",
        "| Id | Label    | Price |\n",
        "|--- |:-------:| ------:|\n",
        "| 01 | Markdown |\\$1600 |\n",
        "| 02 | is       |  \\$12 |\n",
        "| 03 | AWESOME  | \\$999 |\n",
        "```\n",
        "| Id | Label    | Price |\n",
        "|--- |:-------:| ------:|\n",
        "| 01 | Markdown |\\$1600 |\n",
        "| 02 | is       |  \\$12 |\n",
        "| 03 | AWESOME  | \\$999 |\n",
        "\n",
        "---"
      ],
      "metadata": {
        "id": "p2e9CSVkD-bE"
      }
    },
    {
      "cell_type": "markdown",
      "source": [
        "### **Horizontal Line**\n",
        "\n",
        "```\n",
        "## This guide is awasome.\n",
        "---\n",
        "Yes, I agree!\n",
        "```\n",
        "## This guide is awasome.\n",
        "___\n",
        "Yes, I agree!"
      ],
      "metadata": {
        "id": "eT6wUYS1Ar8M"
      }
    }
  ]
}